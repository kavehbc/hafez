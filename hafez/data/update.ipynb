{
 "cells": [
  {
   "cell_type": "markdown",
   "id": "23e9ef1e-8d3f-4d99-8bfb-e000ce3ef1f2",
   "metadata": {},
   "source": [
    "# Unit Test/Update"
   ]
  },
  {
   "cell_type": "code",
   "execution_count": 2,
   "id": "ca5b1807-d419-46a9-9acf-0032d071eef1",
   "metadata": {},
   "outputs": [],
   "source": [
    "import json"
   ]
  },
  {
   "cell_type": "code",
   "execution_count": 7,
   "id": "97e2794a-2335-4605-b7d3-e1587a3d744f",
   "metadata": {},
   "outputs": [
    {
     "data": {
      "text/plain": [
       "495"
      ]
     },
     "execution_count": 7,
     "metadata": {},
     "output_type": "execute_result"
    }
   ],
   "source": [
    "json_data = json.load(open(\"hafez.json\", \"r\"))\n",
    "len(json_data)"
   ]
  },
  {
   "cell_type": "code",
   "execution_count": 21,
   "id": "9199a61a-f8ea-4d9b-9b6a-7f2b5646e3e4",
   "metadata": {},
   "outputs": [
    {
     "data": {
      "text/plain": [
       "{'id': 179,\n",
       " 'poem': ['رسید مژده که ایام غم نخواهد ماند',\n",
       "  'چنان نماند چنین نیز هم نخواهد ماند',\n",
       "  'من ار چه در نظر یار خاکسار شدم',\n",
       "  'رقیب نیز چنین محترم نخواهد ماند',\n",
       "  'چو پرده دار به شمشیر می زند همه را',\n",
       "  'کسی مقیم حریم حرم نخواهد ماند',\n",
       "  'چه جای شکر و شکایت ز نقش نیک و بد است',\n",
       "  'چو بر صحیفه هستی رقم نخواهد ماند',\n",
       "  'سرود مجلس جمشید گفته اند این بود',\n",
       "  'که جام باده بیاور که جم نخواهد ماند',\n",
       "  'غنیمتی شمر ای شمع وصل پروانه',\n",
       "  'که این معامله تا صبحدم نخواهد ماند',\n",
       "  'توانگرا دل درویش خود به دست آور',\n",
       "  'که مخزن زر و گنج درم نخواهد ماند',\n",
       "  'بدین رواق زبرجد نوشته اند به زر',\n",
       "  'که جز نکویی اهل کرم نخواهد ماند',\n",
       "  'ز مهربانی جانان طمع مبر حافظ',\n",
       "  'که نقش جور و نشان ستم نخواهد ماند'],\n",
       " 'interpretation': 'بسیار ناامید هستی و فکر می کنی تمام غم های عالم در دل توست ولی امیدت را از دست نده زیرا سرانجام همه بدبختی های تو تمام می شود. غم و ناراحتی جای خود را به شادی و آشتی می دهند. به مستمندان کمک کن تا باز هم در زمان گرفتاری خداوند نیز مشکل تو را حل کند. ',\n",
       " 'alt_interpretation': 'دوران اندوه تو به پایان و زمان شادکامی فرا می رسد. آن را غنیمت بدان و خدا را شکر کن و فریفته ی لحظات خوش زندگی نباش.',\n",
       " 'mp3': 'https://de.loveziba.com/2019/10/0179.mp3'}"
      ]
     },
     "execution_count": 21,
     "metadata": {},
     "output_type": "execute_result"
    }
   ],
   "source": [
    "poem_to_edit = 179\n",
    "json_data[poem_to_edit - 1]"
   ]
  },
  {
   "cell_type": "code",
   "execution_count": 22,
   "id": "d2bc0739-44d2-4077-93d2-b5dd953abbd1",
   "metadata": {},
   "outputs": [
    {
     "data": {
      "text/plain": [
       "'بسیار ناامید هستی و فکر می کنی تمام غم های عالم در دل توست ولی امیدت را از دست نده زیرا سرانجام همه بدبختی های تو تمام می شود. غم و ناراحتی جای خود را به شادی و آشتی می دهند. به مستمندان کمک کن تا باز هم در زمان گرفتاری خداوند نیز مشکل تو را حل کند. '"
      ]
     },
     "execution_count": 22,
     "metadata": {},
     "output_type": "execute_result"
    }
   ],
   "source": [
    "json_data[poem_to_edit - 1][\"interpretation\"]"
   ]
  },
  {
   "cell_type": "code",
   "execution_count": 20,
   "id": "24acf7f1-9972-4cce-b418-25f3056a5f0c",
   "metadata": {},
   "outputs": [],
   "source": [
    "json_data[poem_to_edit - 1][\"interpretation\"] = 'بسیار ناامید هستی و فکر می کنی تمام غم های عالم در دل توست ولی امیدت را از دست نده زیرا سرانجام همه بدبختی های تو تمام می شود. غم و ناراحتی جای خود را به شادی و آشتی می دهند. به مستمندان کمک کن تا باز هم در زمان گرفتاری خداوند نیز مشکل تو را حل کند. '"
   ]
  },
  {
   "cell_type": "code",
   "execution_count": 28,
   "id": "ab4a8bea-cde0-4a7e-b480-e1d4daf52a17",
   "metadata": {},
   "outputs": [],
   "source": [
    "# saving it in json format\n",
    "with open(\"hafez.json\", \"w\", encoding=\"utf-8\") as json_file:\n",
    "    json.dump(json_data, json_file)\n"
   ]
  }
 ],
 "metadata": {
  "kernelspec": {
   "display_name": "Python 3 (ipykernel)",
   "language": "python",
   "name": "python3"
  },
  "language_info": {
   "codemirror_mode": {
    "name": "ipython",
    "version": 3
   },
   "file_extension": ".py",
   "mimetype": "text/x-python",
   "name": "python",
   "nbconvert_exporter": "python",
   "pygments_lexer": "ipython3",
   "version": "3.10.13"
  }
 },
 "nbformat": 4,
 "nbformat_minor": 5
}
